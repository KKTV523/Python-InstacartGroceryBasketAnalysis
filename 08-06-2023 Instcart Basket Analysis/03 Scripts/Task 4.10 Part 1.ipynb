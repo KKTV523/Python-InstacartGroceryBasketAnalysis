{
 "cells": [
  {
   "cell_type": "markdown",
   "id": "32af61fd",
   "metadata": {},
   "source": [
    "### Import Libraries and Data set"
   ]
  },
  {
   "cell_type": "code",
   "execution_count": 1,
   "id": "df575818",
   "metadata": {},
   "outputs": [],
   "source": [
    "# Import libraries\n",
    "import pandas as pd\n",
    "import numpy as np\n",
    "import os\n",
    "import matplotlib.pyplot as plt\n",
    "import seaborn as sns\n",
    "import scipy"
   ]
  },
  {
   "cell_type": "code",
   "execution_count": 2,
   "id": "d1a2f707",
   "metadata": {},
   "outputs": [],
   "source": [
    "# Path to folder\n",
    "path = r'C:\\Users\\Kripamahesh\\Documents\\08-06-2023 Instcart Basket Analysis'"
   ]
  },
  {
   "cell_type": "markdown",
   "id": "fcf3a015",
   "metadata": {},
   "source": [
    "### Step 1 Import the merged version of data contains new customer column "
   ]
  },
  {
   "cell_type": "code",
   "execution_count": 3,
   "id": "219feb38",
   "metadata": {},
   "outputs": [],
   "source": [
    "# Import ords_prods_customers_merged pkl file \n",
    "\n",
    "\n",
    "df_cust_merged=pd.read_pickle(os.path.join(path, '02 Data', 'Prepared Data', 'ords_prods_customer_merged.pkl'))"
   ]
  },
  {
   "cell_type": "code",
   "execution_count": 4,
   "id": "80509333",
   "metadata": {},
   "outputs": [
    {
     "data": {
      "text/plain": [
       "(32434212, 35)"
      ]
     },
     "execution_count": 4,
     "metadata": {},
     "output_type": "execute_result"
    }
   ],
   "source": [
    "df_cust_merged.shape"
   ]
  },
  {
   "cell_type": "code",
   "execution_count": null,
   "id": "6d69f419",
   "metadata": {},
   "outputs": [],
   "source": [
    "df_cust_merged.head()"
   ]
  },
  {
   "cell_type": "code",
   "execution_count": null,
   "id": "6da3636a",
   "metadata": {},
   "outputs": [],
   "source": [
    "df_cust_merged.info()"
   ]
  },
  {
   "cell_type": "code",
   "execution_count": null,
   "id": "27991aee",
   "metadata": {},
   "outputs": [],
   "source": [
    "df_cust_merged['avg_price'] = df_cust_merged['avg_price'].astype('float16')"
   ]
  },
  {
   "cell_type": "code",
   "execution_count": null,
   "id": "5f55c112",
   "metadata": {},
   "outputs": [],
   "source": [
    "df_cust_merged['mean_price'] = df_cust_merged['mean_price'].astype('float16')"
   ]
  },
  {
   "cell_type": "code",
   "execution_count": null,
   "id": "4792b26e",
   "metadata": {},
   "outputs": [],
   "source": [
    "df_cust_merged['median_pur'] = df_cust_merged['median_pur'].astype('float16')"
   ]
  },
  {
   "cell_type": "code",
   "execution_count": null,
   "id": "f6afe50d",
   "metadata": {},
   "outputs": [],
   "source": [
    "df_cust_merged['median_days'] = df_cust_merged['median_days'].astype('float16')"
   ]
  },
  {
   "cell_type": "code",
   "execution_count": null,
   "id": "52c36539",
   "metadata": {},
   "outputs": [],
   "source": [
    "df_cust_merged['max_order'] = df_cust_merged['max_order'].astype('int32')\n"
   ]
  },
  {
   "cell_type": "code",
   "execution_count": null,
   "id": "e6023bd7",
   "metadata": {},
   "outputs": [],
   "source": [
    "df_cust_merged.info()"
   ]
  },
  {
   "cell_type": "markdown",
   "id": "f3042515",
   "metadata": {},
   "source": [
    "### Step 2 Address any PII data"
   ]
  },
  {
   "cell_type": "code",
   "execution_count": null,
   "id": "2fff64b5",
   "metadata": {},
   "outputs": [],
   "source": [
    "# Remove the Names columns as Names as considered as PII Data\n",
    "\n",
    "df_cust_merged.drop(['First Name', 'Last Name'], axis=1, inplace= True)"
   ]
  },
  {
   "cell_type": "code",
   "execution_count": null,
   "id": "494b58cb",
   "metadata": {},
   "outputs": [],
   "source": [
    "df_cust_merged.shape"
   ]
  },
  {
   "cell_type": "markdown",
   "id": "7ef2e629",
   "metadata": {},
   "source": [
    "### Step 3 Create a Region column based on state colummn\n",
    "\n"
   ]
  },
  {
   "cell_type": "code",
   "execution_count": 28,
   "id": "046c54dc",
   "metadata": {},
   "outputs": [],
   "source": [
    "# Define Region based on state geograhical \n",
    "\n",
    "region=[]\n",
    "for value in df_cust_merged['State']:\n",
    "        if value in ['Maine','New Hampshire','Vermont','Massachusetts','Rhode Island','Connecticut','New York','Pennsylvania','New Jersey']:\n",
    "            region.append('Northeast')\n",
    "        elif value in ['Wisconsin','Michigan','Illinois','Indiana','Ohio','North Dakota','South Dakota','Nebraska','Kansas','Minnesota','Iowa','Missouri']:\n",
    "            region.append('Midwest')\n",
    "        elif value in ['Delaware','Maryland','District of Columbia','Virginia','West Virginia','North Carolina','South Carolina','Georgia','Florida','Kentucky','Tennessee','Mississippi','Alabama','Oklahoma','Texas','Arkansas','Louisiana']:\n",
    "            region.append('South')\n",
    "        else:\n",
    "            region.append('West')"
   ]
  },
  {
   "cell_type": "code",
   "execution_count": 30,
   "id": "0921131c",
   "metadata": {},
   "outputs": [],
   "source": [
    "# Create a region column\n",
    "\n",
    "df_cust_merged['region']=region"
   ]
  },
  {
   "cell_type": "code",
   "execution_count": 32,
   "id": "fbc6042e",
   "metadata": {},
   "outputs": [],
   "source": [
    "# Create a cross tab for region and spending flag\n",
    "\n",
    "region_spend_crosstab= pd.crosstab(df_cust_merged['region'],df_cust_merged['spending_flag'],dropna= False)"
   ]
  },
  {
   "cell_type": "code",
   "execution_count": null,
   "id": "80d5fb71",
   "metadata": {},
   "outputs": [],
   "source": [
    "region_spend_crosstab"
   ]
  },
  {
   "cell_type": "markdown",
   "id": "9b40dc0f",
   "metadata": {},
   "source": [
    "#### Observation:  There is no much difference the regions. Each regions has less no of High spender and high in number of Low spender "
   ]
  },
  {
   "cell_type": "markdown",
   "id": "c32d315f",
   "metadata": {},
   "source": [
    "### Step 4 Create an exclusion flag for low activity customers"
   ]
  },
  {
   "cell_type": "code",
   "execution_count": 6,
   "id": "23ac5094",
   "metadata": {},
   "outputs": [],
   "source": [
    "# Create an exclusion flag\n",
    "df_cust_merged.loc[df_cust_merged['max_order'] < 5, 'customer_activity'] = 'Low-activity customers'\n"
   ]
  },
  {
   "cell_type": "code",
   "execution_count": 7,
   "id": "bf34ae51",
   "metadata": {},
   "outputs": [],
   "source": [
    "df_cust_merged.loc[df_cust_merged['max_order'] >= 5, 'customer_activity'] = 'High-activity customers'"
   ]
  },
  {
   "cell_type": "code",
   "execution_count": null,
   "id": "f4c0e485",
   "metadata": {},
   "outputs": [],
   "source": [
    "# Check value counts\n",
    "df_cust_merged['customer_activity'].value_counts(dropna=False)"
   ]
  },
  {
   "cell_type": "code",
   "execution_count": 8,
   "id": "867a9fa2",
   "metadata": {},
   "outputs": [],
   "source": [
    "# Subset for High activity customer\n",
    "\n",
    "df_high_act_cust=df_cust_merged[df_cust_merged['customer_activity']=='High-activity customers']"
   ]
  },
  {
   "cell_type": "code",
   "execution_count": 9,
   "id": "1ca8c6d2",
   "metadata": {},
   "outputs": [],
   "source": [
    "# Export High activity customer\n",
    "\n",
    "df_high_act_cust.to_pickle(os.path.join(path,'02 Data','Prepared Data','high_act_cust.pkl'))"
   ]
  },
  {
   "cell_type": "code",
   "execution_count": 10,
   "id": "8ccc4dc5",
   "metadata": {},
   "outputs": [
    {
     "data": {
      "text/plain": [
       "Index(['user_id', 'First Name', 'Last Name', 'Gender', 'State', 'Age',\n",
       "       'date_joined', 'n_dependants', 'fam_status', 'income', 'order_id',\n",
       "       'order_number', 'order_dow', 'order_hour_of_day',\n",
       "       'days_after_last_order', 'product_id', 'add_to_cart_order', 'reordered',\n",
       "       'product_name', 'aisle_id', 'department_id', 'prices',\n",
       "       'prices_range_loc', 'price_range_loc', 'busiest_day', 'busiest_days',\n",
       "       'busiest_period_of_day', 'max_order', 'loyalty_flag', 'avg_price',\n",
       "       'spending_flag', 'mean_price', 'median_pur', 'median_days',\n",
       "       'frequency_flag', 'customer_activity'],\n",
       "      dtype='object')"
      ]
     },
     "execution_count": 10,
     "metadata": {},
     "output_type": "execute_result"
    }
   ],
   "source": [
    "df_cust_merged.columns"
   ]
  },
  {
   "cell_type": "markdown",
   "id": "e1fdc262",
   "metadata": {},
   "source": [
    "### Step 5 Create profiling variables"
   ]
  },
  {
   "cell_type": "code",
   "execution_count": 16,
   "id": "5c7142cc",
   "metadata": {},
   "outputs": [],
   "source": [
    "# Create groups for Age profiling \n",
    "\n",
    "df_high_act_cust.loc[(df_high_act_cust['Age']>=35) & (df_high_act_cust['Age']<60),'age_flag'] ='Middle Age'"
   ]
  },
  {
   "cell_type": "code",
   "execution_count": 17,
   "id": "8fae4bf1",
   "metadata": {},
   "outputs": [],
   "source": [
    "df_high_act_cust.loc[df_high_act_cust['Age']<35,'age_flag'] ='Young Adult'"
   ]
  },
  {
   "cell_type": "code",
   "execution_count": 18,
   "id": "59133c4d",
   "metadata": {},
   "outputs": [],
   "source": [
    "df_high_act_cust.loc[df_high_act_cust['Age']<60,'age_flag'] ='Elderly'"
   ]
  },
  {
   "cell_type": "code",
   "execution_count": 19,
   "id": "422f7e95",
   "metadata": {},
   "outputs": [
    {
     "data": {
      "text/plain": [
       "Elderly    20408723\n",
       "Senior     10583941\n",
       "Name: age_flag, dtype: int64"
      ]
     },
     "execution_count": 19,
     "metadata": {},
     "output_type": "execute_result"
    }
   ],
   "source": [
    "df_high_act_cust['age_flag'].value_counts(dropna = False)"
   ]
  },
  {
   "cell_type": "code",
   "execution_count": 20,
   "id": "301ba4e5",
   "metadata": {},
   "outputs": [
    {
     "data": {
      "text/plain": [
       "(30992664, 37)"
      ]
     },
     "execution_count": 20,
     "metadata": {},
     "output_type": "execute_result"
    }
   ],
   "source": [
    "df_high_act_cust.shape"
   ]
  },
  {
   "cell_type": "markdown",
   "id": "41eac652",
   "metadata": {},
   "source": [
    "### Step 6 Visualization"
   ]
  },
  {
   "cell_type": "code",
   "execution_count": 21,
   "id": "02d3fad4",
   "metadata": {},
   "outputs": [
    {
     "data": {
      "image/png": "[encoded data removed]",
      "text/plain": [
       "<Figure size 640x480 with 1 Axes>"
      ]
     },
     "metadata": {},
     "output_type": "display_data"
    }
   ],
   "source": [
    "# Bar Chart\n",
    "\n",
    "age_bar=df_high_act_cust['age_flag'].value_counts().plot.bar()"
   ]
  },
  {
   "cell_type": "code",
   "execution_count": 24,
   "id": "c77a48a9",
   "metadata": {},
   "outputs": [],
   "source": [
    "# Save the visualization\n",
    "\n",
    "age_bar.figure.savefig(os.path.join(path, '04 Analysis','Visualizations', 'age_bar.png'))\n"
   ]
  },
  {
   "cell_type": "markdown",
   "id": "acb09ea8",
   "metadata": {},
   "source": [
    "### Step 7  Aggregate min,max,mean variables"
   ]
  },
  {
   "cell_type": "code",
   "execution_count": 26,
   "id": "ca5da337",
   "metadata": {},
   "outputs": [
    {
     "data": {
      "text/html": [
       "<div>\n",
       "<style scoped>\n",
       "    .dataframe tbody tr th:only-of-type {\n",
       "        vertical-align: middle;\n",
       "    }\n",
       "\n",
       "    .dataframe tbody tr th {\n",
       "        vertical-align: top;\n",
       "    }\n",
       "\n",
       "    .dataframe thead tr th {\n",
       "        text-align: left;\n",
       "    }\n",
       "\n",
       "    .dataframe thead tr:last-of-type th {\n",
       "        text-align: right;\n",
       "    }\n",
       "</style>\n",
       "<table border=\"1\" class=\"dataframe\">\n",
       "  <thead>\n",
       "    <tr>\n",
       "      <th></th>\n",
       "      <th colspan=\"3\" halign=\"left\">days_after_last_order</th>\n",
       "      <th colspan=\"3\" halign=\"left\">prices</th>\n",
       "    </tr>\n",
       "    <tr>\n",
       "      <th></th>\n",
       "      <th>max</th>\n",
       "      <th>mean</th>\n",
       "      <th>min</th>\n",
       "      <th>max</th>\n",
       "      <th>mean</th>\n",
       "      <th>min</th>\n",
       "    </tr>\n",
       "    <tr>\n",
       "      <th>age_flag</th>\n",
       "      <th></th>\n",
       "      <th></th>\n",
       "      <th></th>\n",
       "      <th></th>\n",
       "      <th></th>\n",
       "      <th></th>\n",
       "    </tr>\n",
       "  </thead>\n",
       "  <tbody>\n",
       "    <tr>\n",
       "      <th>Elderly</th>\n",
       "      <td>30.0</td>\n",
       "      <td>10.815273</td>\n",
       "      <td>0.0</td>\n",
       "      <td>inf</td>\n",
       "      <td>NaN</td>\n",
       "      <td>1.0</td>\n",
       "    </tr>\n",
       "    <tr>\n",
       "      <th>Senior</th>\n",
       "      <td>30.0</td>\n",
       "      <td>10.800991</td>\n",
       "      <td>0.0</td>\n",
       "      <td>inf</td>\n",
       "      <td>NaN</td>\n",
       "      <td>1.0</td>\n",
       "    </tr>\n",
       "  </tbody>\n",
       "</table>\n",
       "</div>"
      ],
      "text/plain": [
       "         days_after_last_order                 prices          \n",
       "                           max       mean  min    max mean  min\n",
       "age_flag                                                       \n",
       "Elderly                   30.0  10.815273  0.0    inf  NaN  1.0\n",
       "Senior                    30.0  10.800991  0.0    inf  NaN  1.0"
      ]
     },
     "execution_count": 26,
     "metadata": {},
     "output_type": "execute_result"
    }
   ],
   "source": [
    "# Aggregate min,max,mean \n",
    "\n",
    "df_high_act_cust.groupby('age_flag').agg({'days_after_last_order':['max', 'mean', 'min'], 'prices':['max', 'mean', 'min']})"
   ]
  },
  {
   "cell_type": "code",
   "execution_count": 35,
   "id": "07cf1808",
   "metadata": {},
   "outputs": [],
   "source": [
    "region=[]\n",
    "for value in df_high_act_cust['State']:\n",
    "        if value in ['Maine','New Hampshire','Vermont','Massachusetts','Rhode Island','Connecticut','New York','Pennsylvania','New Jersey']:\n",
    "            region.append('Northeast')\n",
    "        elif value in ['Wisconsin','Michigan','Illinois','Indiana','Ohio','North Dakota','South Dakota','Nebraska','Kansas','Minnesota','Iowa','Missouri']:\n",
    "            region.append('Midwest')\n",
    "        elif value in ['Delaware','Maryland','District of Columbia','Virginia','West Virginia','North Carolina','South Carolina','Georgia','Florida','Kentucky','Tennessee','Mississippi','Alabama','Oklahoma','Texas','Arkansas','Louisiana']:\n",
    "            region.append('South')\n",
    "        else:\n",
    "            region.append('West')"
   ]
  },
  {
   "cell_type": "code",
   "execution_count": 37,
   "id": "0bae84b0",
   "metadata": {},
   "outputs": [
    {
     "name": "stderr",
     "output_type": "stream",
     "text": [
      "C:\\Users\\Kripamahesh\\AppData\\Local\\Temp\\ipykernel_9604\\11727361.py:1: SettingWithCopyWarning: \n",
      "A value is trying to be set on a copy of a slice from a DataFrame.\n",
      "Try using .loc[row_indexer,col_indexer] = value instead\n",
      "\n",
      "See the caveats in the documentation: https://pandas.pydata.org/pandas-docs/stable/user_guide/indexing.html#returning-a-view-versus-a-copy\n",
      "  df_high_act_cust['region']=region\n"
     ]
    }
   ],
   "source": [
    "df_high_act_cust['region']=region"
   ]
  },
  {
   "cell_type": "markdown",
   "id": "57179f8f",
   "metadata": {},
   "source": [
    "### Step 8 Customer profile with regions and department_id"
   ]
  },
  {
   "cell_type": "code",
   "execution_count": 39,
   "id": "5e03a5e7",
   "metadata": {},
   "outputs": [],
   "source": [
    "# Crosstab between age and region\n",
    "\n",
    "crosstab_dept_region=pd.crosstab(df_high_act_cust['region'], df_high_act_cust['department_id'],dropna=False)\n"
   ]
  },
  {
   "cell_type": "markdown",
   "id": "cace44fd",
   "metadata": {},
   "source": [
    "### Step 9 Chart to illustrate the results and export "
   ]
  },
  {
   "cell_type": "code",
   "execution_count": 40,
   "id": "9e47038f",
   "metadata": {},
   "outputs": [
    {
     "data": {
      "image/png": "[encoded data removed]",
      "text/plain": [
       "<Figure size 640x480 with 1 Axes>"
      ]
     },
     "metadata": {},
     "output_type": "display_data"
    }
   ],
   "source": [
    "crosstab_dept_region=crosstab_dept_region.plot.bar()"
   ]
  },
  {
   "cell_type": "code",
   "execution_count": 41,
   "id": "15221d77",
   "metadata": {},
   "outputs": [],
   "source": [
    "# Export the Chart\n",
    "\n",
    "bar_region_department=crosstab_dept_region.figure.savefig(os.path.join(path,'04 Analysis', 'Visualizations', 'bar_region_department'))"
   ]
  },
  {
   "cell_type": "code",
   "execution_count": null,
   "id": "b24bb4d2",
   "metadata": {},
   "outputs": [],
   "source": []
  }
 ],
 "metadata": {
  "kernelspec": {
   "display_name": "Python 3 (ipykernel)",
   "language": "python",
   "name": "python3"
  },
  "language_info": {
   "codemirror_mode": {
    "name": "ipython",
    "version": 3
   },
   "file_extension": ".py",
   "mimetype": "text/x-python",
   "name": "python",
   "nbconvert_exporter": "python",
   "pygments_lexer": "ipython3",
   "version": "3.10.9"
  }
 },
 "nbformat": 4,
 "nbformat_minor": 5
}
