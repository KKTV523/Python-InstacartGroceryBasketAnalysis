{
 "cells": [
  {
   "cell_type": "markdown",
   "id": "2813f694",
   "metadata": {},
   "source": [
    "### Import Data and Libraries "
   ]
  },
  {
   "cell_type": "code",
   "execution_count": 1,
   "id": "195cc79e",
   "metadata": {},
   "outputs": [],
   "source": [
    "# Import libraries\n",
    "import pandas as pd\n",
    "import numpy as np\n",
    "import os\n",
    "import matplotlib.pyplot as plt\n",
    "import seaborn as sns\n",
    "import scipy"
   ]
  },
  {
   "cell_type": "code",
   "execution_count": 2,
   "id": "255b1f72",
   "metadata": {},
   "outputs": [],
   "source": [
    "# Path to folder\n",
    "path = r'C:\\Users\\Kripamahesh\\Documents\\08-06-2023 Instcart Basket Analysis'"
   ]
  },
  {
   "cell_type": "markdown",
   "id": "845d71d2",
   "metadata": {},
   "source": [
    "### Step 3: Import the customers.csv Dataset"
   ]
  },
  {
   "cell_type": "code",
   "execution_count": 3,
   "id": "23b830d3",
   "metadata": {},
   "outputs": [],
   "source": [
    "# Import Data set\n",
    "df_customers =pd.read_csv(os.path.join(path, '02 Data', 'Original Data', 'customers.csv'), index_col = False)\n"
   ]
  },
  {
   "cell_type": "markdown",
   "id": "545eb575",
   "metadata": {},
   "source": [
    "### Step 4 : Wrangle the Data"
   ]
  },
  {
   "cell_type": "code",
   "execution_count": 4,
   "id": "7ec22d72",
   "metadata": {},
   "outputs": [
    {
     "data": {
      "text/html": [
       "<div>\n",
       "<style scoped>\n",
       "    .dataframe tbody tr th:only-of-type {\n",
       "        vertical-align: middle;\n",
       "    }\n",
       "\n",
       "    .dataframe tbody tr th {\n",
       "        vertical-align: top;\n",
       "    }\n",
       "\n",
       "    .dataframe thead th {\n",
       "        text-align: right;\n",
       "    }\n",
       "</style>\n",
       "<table border=\"1\" class=\"dataframe\">\n",
       "  <thead>\n",
       "    <tr style=\"text-align: right;\">\n",
       "      <th></th>\n",
       "      <th>user_id</th>\n",
       "      <th>First Name</th>\n",
       "      <th>Surnam</th>\n",
       "      <th>Gender</th>\n",
       "      <th>STATE</th>\n",
       "      <th>Age</th>\n",
       "      <th>date_joined</th>\n",
       "      <th>n_dependants</th>\n",
       "      <th>fam_status</th>\n",
       "      <th>income</th>\n",
       "    </tr>\n",
       "  </thead>\n",
       "  <tbody>\n",
       "    <tr>\n",
       "      <th>0</th>\n",
       "      <td>26711</td>\n",
       "      <td>Deborah</td>\n",
       "      <td>Esquivel</td>\n",
       "      <td>Female</td>\n",
       "      <td>Missouri</td>\n",
       "      <td>48</td>\n",
       "      <td>1/1/2017</td>\n",
       "      <td>3</td>\n",
       "      <td>married</td>\n",
       "      <td>165665</td>\n",
       "    </tr>\n",
       "    <tr>\n",
       "      <th>1</th>\n",
       "      <td>33890</td>\n",
       "      <td>Patricia</td>\n",
       "      <td>Hart</td>\n",
       "      <td>Female</td>\n",
       "      <td>New Mexico</td>\n",
       "      <td>36</td>\n",
       "      <td>1/1/2017</td>\n",
       "      <td>0</td>\n",
       "      <td>single</td>\n",
       "      <td>59285</td>\n",
       "    </tr>\n",
       "    <tr>\n",
       "      <th>2</th>\n",
       "      <td>65803</td>\n",
       "      <td>Kenneth</td>\n",
       "      <td>Farley</td>\n",
       "      <td>Male</td>\n",
       "      <td>Idaho</td>\n",
       "      <td>35</td>\n",
       "      <td>1/1/2017</td>\n",
       "      <td>2</td>\n",
       "      <td>married</td>\n",
       "      <td>99568</td>\n",
       "    </tr>\n",
       "    <tr>\n",
       "      <th>3</th>\n",
       "      <td>125935</td>\n",
       "      <td>Michelle</td>\n",
       "      <td>Hicks</td>\n",
       "      <td>Female</td>\n",
       "      <td>Iowa</td>\n",
       "      <td>40</td>\n",
       "      <td>1/1/2017</td>\n",
       "      <td>0</td>\n",
       "      <td>single</td>\n",
       "      <td>42049</td>\n",
       "    </tr>\n",
       "    <tr>\n",
       "      <th>4</th>\n",
       "      <td>130797</td>\n",
       "      <td>Ann</td>\n",
       "      <td>Gilmore</td>\n",
       "      <td>Female</td>\n",
       "      <td>Maryland</td>\n",
       "      <td>26</td>\n",
       "      <td>1/1/2017</td>\n",
       "      <td>1</td>\n",
       "      <td>married</td>\n",
       "      <td>40374</td>\n",
       "    </tr>\n",
       "  </tbody>\n",
       "</table>\n",
       "</div>"
      ],
      "text/plain": [
       "   user_id First Name    Surnam  Gender       STATE  Age date_joined  \\\n",
       "0    26711    Deborah  Esquivel  Female    Missouri   48    1/1/2017   \n",
       "1    33890   Patricia      Hart  Female  New Mexico   36    1/1/2017   \n",
       "2    65803    Kenneth    Farley    Male       Idaho   35    1/1/2017   \n",
       "3   125935   Michelle     Hicks  Female        Iowa   40    1/1/2017   \n",
       "4   130797        Ann   Gilmore  Female    Maryland   26    1/1/2017   \n",
       "\n",
       "   n_dependants fam_status  income  \n",
       "0             3    married  165665  \n",
       "1             0     single   59285  \n",
       "2             2    married   99568  \n",
       "3             0     single   42049  \n",
       "4             1    married   40374  "
      ]
     },
     "execution_count": 4,
     "metadata": {},
     "output_type": "execute_result"
    }
   ],
   "source": [
    "# Check the import data with col names\n",
    "df_customers.head()"
   ]
  },
  {
   "cell_type": "code",
   "execution_count": 5,
   "id": "517519ea",
   "metadata": {},
   "outputs": [
    {
     "data": {
      "text/plain": [
       "(206209, 10)"
      ]
     },
     "execution_count": 5,
     "metadata": {},
     "output_type": "execute_result"
    }
   ],
   "source": [
    "# Checking the size\n",
    "df_customers.shape"
   ]
  },
  {
   "cell_type": "code",
   "execution_count": 6,
   "id": "b25d847a",
   "metadata": {},
   "outputs": [
    {
     "name": "stdout",
     "output_type": "stream",
     "text": [
      "<class 'pandas.core.frame.DataFrame'>\n",
      "RangeIndex: 206209 entries, 0 to 206208\n",
      "Data columns (total 10 columns):\n",
      " #   Column        Non-Null Count   Dtype \n",
      "---  ------        --------------   ----- \n",
      " 0   user_id       206209 non-null  int64 \n",
      " 1   First Name    194950 non-null  object\n",
      " 2   Surnam        206209 non-null  object\n",
      " 3   Gender        206209 non-null  object\n",
      " 4   STATE         206209 non-null  object\n",
      " 5   Age           206209 non-null  int64 \n",
      " 6   date_joined   206209 non-null  object\n",
      " 7   n_dependants  206209 non-null  int64 \n",
      " 8   fam_status    206209 non-null  object\n",
      " 9   income        206209 non-null  int64 \n",
      "dtypes: int64(4), object(6)\n",
      "memory usage: 15.7+ MB\n"
     ]
    }
   ],
   "source": [
    "# Checking the basic info\n",
    "df_customers.info()"
   ]
  },
  {
   "cell_type": "markdown",
   "id": "bb94c5fb",
   "metadata": {},
   "source": [
    "#### Observations: First Name has only 194950 entries"
   ]
  },
  {
   "cell_type": "code",
   "execution_count": 7,
   "id": "bf6b7eb6",
   "metadata": {},
   "outputs": [
    {
     "data": {
      "text/plain": [
       "NaN        11259\n",
       "Marilyn     2213\n",
       "Barbara     2154\n",
       "Todd        2113\n",
       "Jeremy      2104\n",
       "           ...  \n",
       "Merry        197\n",
       "Eugene       197\n",
       "Garry        191\n",
       "Ned          186\n",
       "David        186\n",
       "Name: First Name, Length: 208, dtype: int64"
      ]
     },
     "execution_count": 7,
     "metadata": {},
     "output_type": "execute_result"
    }
   ],
   "source": [
    "# Reconfirming using value.counts fun\n",
    "df_customers['First Name'].value_counts(dropna = False)"
   ]
  },
  {
   "cell_type": "markdown",
   "id": "6a078854",
   "metadata": {},
   "source": [
    "#### Observations: First Names has 11259 missing values "
   ]
  },
  {
   "cell_type": "code",
   "execution_count": 8,
   "id": "1df28f3e",
   "metadata": {},
   "outputs": [
    {
     "data": {
      "text/html": [
       "<div>\n",
       "<style scoped>\n",
       "    .dataframe tbody tr th:only-of-type {\n",
       "        vertical-align: middle;\n",
       "    }\n",
       "\n",
       "    .dataframe tbody tr th {\n",
       "        vertical-align: top;\n",
       "    }\n",
       "\n",
       "    .dataframe thead th {\n",
       "        text-align: right;\n",
       "    }\n",
       "</style>\n",
       "<table border=\"1\" class=\"dataframe\">\n",
       "  <thead>\n",
       "    <tr style=\"text-align: right;\">\n",
       "      <th></th>\n",
       "      <th>user_id</th>\n",
       "      <th>Age</th>\n",
       "      <th>n_dependants</th>\n",
       "      <th>income</th>\n",
       "    </tr>\n",
       "  </thead>\n",
       "  <tbody>\n",
       "    <tr>\n",
       "      <th>count</th>\n",
       "      <td>206209.000000</td>\n",
       "      <td>206209.000000</td>\n",
       "      <td>206209.000000</td>\n",
       "      <td>206209.000000</td>\n",
       "    </tr>\n",
       "    <tr>\n",
       "      <th>mean</th>\n",
       "      <td>103105.000000</td>\n",
       "      <td>49.501646</td>\n",
       "      <td>1.499823</td>\n",
       "      <td>94632.852548</td>\n",
       "    </tr>\n",
       "    <tr>\n",
       "      <th>std</th>\n",
       "      <td>59527.555167</td>\n",
       "      <td>18.480962</td>\n",
       "      <td>1.118433</td>\n",
       "      <td>42473.786988</td>\n",
       "    </tr>\n",
       "    <tr>\n",
       "      <th>min</th>\n",
       "      <td>1.000000</td>\n",
       "      <td>18.000000</td>\n",
       "      <td>0.000000</td>\n",
       "      <td>25903.000000</td>\n",
       "    </tr>\n",
       "    <tr>\n",
       "      <th>25%</th>\n",
       "      <td>51553.000000</td>\n",
       "      <td>33.000000</td>\n",
       "      <td>0.000000</td>\n",
       "      <td>59874.000000</td>\n",
       "    </tr>\n",
       "    <tr>\n",
       "      <th>50%</th>\n",
       "      <td>103105.000000</td>\n",
       "      <td>49.000000</td>\n",
       "      <td>1.000000</td>\n",
       "      <td>93547.000000</td>\n",
       "    </tr>\n",
       "    <tr>\n",
       "      <th>75%</th>\n",
       "      <td>154657.000000</td>\n",
       "      <td>66.000000</td>\n",
       "      <td>3.000000</td>\n",
       "      <td>124244.000000</td>\n",
       "    </tr>\n",
       "    <tr>\n",
       "      <th>max</th>\n",
       "      <td>206209.000000</td>\n",
       "      <td>81.000000</td>\n",
       "      <td>3.000000</td>\n",
       "      <td>593901.000000</td>\n",
       "    </tr>\n",
       "  </tbody>\n",
       "</table>\n",
       "</div>"
      ],
      "text/plain": [
       "             user_id            Age   n_dependants         income\n",
       "count  206209.000000  206209.000000  206209.000000  206209.000000\n",
       "mean   103105.000000      49.501646       1.499823   94632.852548\n",
       "std     59527.555167      18.480962       1.118433   42473.786988\n",
       "min         1.000000      18.000000       0.000000   25903.000000\n",
       "25%     51553.000000      33.000000       0.000000   59874.000000\n",
       "50%    103105.000000      49.000000       1.000000   93547.000000\n",
       "75%    154657.000000      66.000000       3.000000  124244.000000\n",
       "max    206209.000000      81.000000       3.000000  593901.000000"
      ]
     },
     "execution_count": 8,
     "metadata": {},
     "output_type": "execute_result"
    }
   ],
   "source": [
    "# checking the descriptive values\n",
    "df_customers.describe()"
   ]
  },
  {
   "cell_type": "code",
   "execution_count": 9,
   "id": "9067d260",
   "metadata": {},
   "outputs": [
    {
     "data": {
      "text/plain": [
       "Index(['user_id', 'First Name', 'Surnam', 'Gender', 'STATE', 'Age',\n",
       "       'date_joined', 'n_dependants', 'fam_status', 'income'],\n",
       "      dtype='object')"
      ]
     },
     "execution_count": 9,
     "metadata": {},
     "output_type": "execute_result"
    }
   ],
   "source": [
    "df_customers.columns"
   ]
  },
  {
   "cell_type": "markdown",
   "id": "0fe119a1",
   "metadata": {},
   "source": [
    "#### Observations: Can rename surnam to 'Last Name' and STATE to 'State'"
   ]
  },
  {
   "cell_type": "code",
   "execution_count": 10,
   "id": "7ba633df",
   "metadata": {},
   "outputs": [],
   "source": [
    "# Rename \n",
    "df_customers.rename(columns={'Surnam' : 'Last Name','STATE' : 'State'}, inplace=True)"
   ]
  },
  {
   "cell_type": "markdown",
   "id": "97814d02",
   "metadata": {},
   "source": [
    "### Step 5 : Fundamental Data Quality and Consistency checks"
   ]
  },
  {
   "cell_type": "code",
   "execution_count": 11,
   "id": "f93c6d5e",
   "metadata": {},
   "outputs": [
    {
     "name": "stdout",
     "output_type": "stream",
     "text": [
      "First Name\n"
     ]
    }
   ],
   "source": [
    "# Check for mixed data types \n",
    "\n",
    "for col in df_customers.columns.tolist():\n",
    "        weird = (df_customers[[col]].applymap(type) != df_customers[[col]].iloc[0].apply(type)).any(axis = 1)\n",
    "        if len (df_customers[weird]) > 0:\n",
    "            print(col)"
   ]
  },
  {
   "cell_type": "code",
   "execution_count": 12,
   "id": "677b8f30",
   "metadata": {},
   "outputs": [],
   "source": [
    "#### Observations :  First Name had mixed data types, hence change to 'Str'\n",
    "\n",
    "df_customers['First Name'] = df_customers['First Name'].astype('str')"
   ]
  },
  {
   "cell_type": "code",
   "execution_count": 13,
   "id": "0d3270b7",
   "metadata": {},
   "outputs": [],
   "source": [
    "# Recheck for mixed data types\n",
    "\n",
    "for col in df_customers.columns.tolist():\n",
    "        weird = (df_customers[[col]].applymap(type) != df_customers[[col]].iloc[0].apply(type)).any(axis = 1)\n",
    "        if len (df_customers[weird]) > 0:\n",
    "            print(col)"
   ]
  },
  {
   "cell_type": "code",
   "execution_count": 14,
   "id": "53465326",
   "metadata": {},
   "outputs": [
    {
     "data": {
      "text/plain": [
       "user_id         0\n",
       "First Name      0\n",
       "Last Name       0\n",
       "Gender          0\n",
       "State           0\n",
       "Age             0\n",
       "date_joined     0\n",
       "n_dependants    0\n",
       "fam_status      0\n",
       "income          0\n",
       "dtype: int64"
      ]
     },
     "execution_count": 14,
     "metadata": {},
     "output_type": "execute_result"
    }
   ],
   "source": [
    "# Chck for missing values \n",
    "\n",
    "df_customers.isnull().sum()"
   ]
  },
  {
   "cell_type": "code",
   "execution_count": 15,
   "id": "71b32661",
   "metadata": {},
   "outputs": [],
   "source": [
    "# Check for duplicates\n",
    "\n",
    "df_dups = df_customers[df_customers.duplicated()]"
   ]
  },
  {
   "cell_type": "code",
   "execution_count": 16,
   "id": "f953d25b",
   "metadata": {},
   "outputs": [
    {
     "data": {
      "text/html": [
       "<div>\n",
       "<style scoped>\n",
       "    .dataframe tbody tr th:only-of-type {\n",
       "        vertical-align: middle;\n",
       "    }\n",
       "\n",
       "    .dataframe tbody tr th {\n",
       "        vertical-align: top;\n",
       "    }\n",
       "\n",
       "    .dataframe thead th {\n",
       "        text-align: right;\n",
       "    }\n",
       "</style>\n",
       "<table border=\"1\" class=\"dataframe\">\n",
       "  <thead>\n",
       "    <tr style=\"text-align: right;\">\n",
       "      <th></th>\n",
       "      <th>user_id</th>\n",
       "      <th>First Name</th>\n",
       "      <th>Last Name</th>\n",
       "      <th>Gender</th>\n",
       "      <th>State</th>\n",
       "      <th>Age</th>\n",
       "      <th>date_joined</th>\n",
       "      <th>n_dependants</th>\n",
       "      <th>fam_status</th>\n",
       "      <th>income</th>\n",
       "    </tr>\n",
       "  </thead>\n",
       "  <tbody>\n",
       "  </tbody>\n",
       "</table>\n",
       "</div>"
      ],
      "text/plain": [
       "Empty DataFrame\n",
       "Columns: [user_id, First Name, Last Name, Gender, State, Age, date_joined, n_dependants, fam_status, income]\n",
       "Index: []"
      ]
     },
     "execution_count": 16,
     "metadata": {},
     "output_type": "execute_result"
    }
   ],
   "source": [
    "df_dups"
   ]
  },
  {
   "cell_type": "markdown",
   "id": "d1460211",
   "metadata": {},
   "source": [
    "#### Observations: There are no missing vales and duplicates"
   ]
  },
  {
   "cell_type": "markdown",
   "id": "467d84dc",
   "metadata": {},
   "source": [
    "### Step 6: Combine the 2 Data frames "
   ]
  },
  {
   "cell_type": "code",
   "execution_count": 18,
   "id": "5c40f25e",
   "metadata": {},
   "outputs": [],
   "source": [
    "# Import the orders_products_aggregated.pkl dataset \n",
    "\n",
    "ords_prods_merge =pd.read_pickle(os.path.join(path, '02 Data', 'Prepared Data', 'orders_products_aggregated.pkl'))"
   ]
  },
  {
   "cell_type": "code",
   "execution_count": 19,
   "id": "63654d95",
   "metadata": {
    "scrolled": true
   },
   "outputs": [
    {
     "name": "stdout",
     "output_type": "stream",
     "text": [
      "<class 'pandas.core.frame.DataFrame'>\n",
      "Int64Index: 32434212 entries, 0 to 32434211\n",
      "Data columns (total 29 columns):\n",
      " #   Column                 Dtype   \n",
      "---  ------                 -----   \n",
      " 0   order_id               int64   \n",
      " 1   user_id                int64   \n",
      " 2   eval_set               object  \n",
      " 3   order_number           int64   \n",
      " 4   order_dow              int64   \n",
      " 5   order_hour_of_day      int64   \n",
      " 6   days_after_last_order  float64 \n",
      " 7   product_id             int64   \n",
      " 8   add_to_cart_order      int64   \n",
      " 9   reordered              int64   \n",
      " 10  Unnamed: 0             int64   \n",
      " 11  product_name           object  \n",
      " 12  aisle_id               int64   \n",
      " 13  department_id          int64   \n",
      " 14  prices                 float64 \n",
      " 15  _merge                 category\n",
      " 16  prices_range_loc       object  \n",
      " 17  price_range_loc        object  \n",
      " 18  busiest_day            object  \n",
      " 19  busiest_days           object  \n",
      " 20  busiest_period_of_day  object  \n",
      " 21  max_order              int64   \n",
      " 22  loyalty_flag           object  \n",
      " 23  avg_price              float64 \n",
      " 24  spending_flag          object  \n",
      " 25  mean_price             float64 \n",
      " 26  median_pur             float64 \n",
      " 27  median_days            float64 \n",
      " 28  frequency_flag         object  \n",
      "dtypes: category(1), float64(6), int64(12), object(10)\n",
      "memory usage: 7.0+ GB\n"
     ]
    }
   ],
   "source": [
    "# Check the info\n",
    "ords_prods_merge.info()"
   ]
  },
  {
   "cell_type": "code",
   "execution_count": 20,
   "id": "c86eca1c",
   "metadata": {},
   "outputs": [
    {
     "data": {
      "text/plain": [
       "(32434212, 29)"
      ]
     },
     "execution_count": 20,
     "metadata": {},
     "output_type": "execute_result"
    }
   ],
   "source": [
    "# Checking the size\n",
    "ords_prods_merge.shape"
   ]
  },
  {
   "cell_type": "code",
   "execution_count": 21,
   "id": "5ee881f0",
   "metadata": {},
   "outputs": [],
   "source": [
    "#delete the _merge flag\n",
    "del ords_prods_merge['_merge']"
   ]
  },
  {
   "cell_type": "code",
   "execution_count": null,
   "id": "4e0a8576",
   "metadata": {},
   "outputs": [],
   "source": [
    "# Combine the datasets based on user_id column\n",
    "\n",
    "### df_combined= pd.merge(df_customers, ords_prods_merge, on= 'user_id')"
   ]
  },
  {
   "cell_type": "code",
   "execution_count": 22,
   "id": "a00ce368",
   "metadata": {},
   "outputs": [],
   "source": [
    "ords_prods_merge.drop(columns = {'eval_set', 'Unnamed: 0'}, inplace = True)"
   ]
  },
  {
   "cell_type": "code",
   "execution_count": 23,
   "id": "b9f55e02",
   "metadata": {},
   "outputs": [],
   "source": [
    "# Change dtypes from ords_prods_merge dataframe\n",
    "\n",
    "ords_prods_merge['order_id']=ords_prods_merge['order_id'].astype('int32')"
   ]
  },
  {
   "cell_type": "code",
   "execution_count": 24,
   "id": "940b18da",
   "metadata": {},
   "outputs": [],
   "source": [
    "ords_prods_merge['user_id']=ords_prods_merge['user_id'].astype('int32')"
   ]
  },
  {
   "cell_type": "code",
   "execution_count": 25,
   "id": "01f931c6",
   "metadata": {},
   "outputs": [],
   "source": [
    "ords_prods_merge['order_number']=ords_prods_merge['order_number'].astype('int32')"
   ]
  },
  {
   "cell_type": "code",
   "execution_count": 26,
   "id": "287cec3a",
   "metadata": {},
   "outputs": [],
   "source": [
    "ords_prods_merge['order_dow']=ords_prods_merge['order_dow'].astype('int32')"
   ]
  },
  {
   "cell_type": "code",
   "execution_count": 27,
   "id": "6ef3ff75",
   "metadata": {},
   "outputs": [],
   "source": [
    "ords_prods_merge['order_hour_of_day']=ords_prods_merge['order_hour_of_day'].astype('int32')"
   ]
  },
  {
   "cell_type": "code",
   "execution_count": 28,
   "id": "6626b1b7",
   "metadata": {},
   "outputs": [],
   "source": [
    "ords_prods_merge['days_after_last_order']=ords_prods_merge['days_after_last_order'].astype('float16')"
   ]
  },
  {
   "cell_type": "code",
   "execution_count": 29,
   "id": "face3873",
   "metadata": {},
   "outputs": [],
   "source": [
    "ords_prods_merge['product_id']=ords_prods_merge['product_id'].astype('int32')"
   ]
  },
  {
   "cell_type": "code",
   "execution_count": 30,
   "id": "83e0057a",
   "metadata": {},
   "outputs": [],
   "source": [
    "ords_prods_merge['reordered']=ords_prods_merge['reordered'].astype('int8')"
   ]
  },
  {
   "cell_type": "code",
   "execution_count": 31,
   "id": "e45725f1",
   "metadata": {},
   "outputs": [],
   "source": [
    "ords_prods_merge['add_to_cart_order']=ords_prods_merge['add_to_cart_order'].astype('int32')"
   ]
  },
  {
   "cell_type": "code",
   "execution_count": 32,
   "id": "69731651",
   "metadata": {},
   "outputs": [],
   "source": [
    "ords_prods_merge['user_id']=ords_prods_merge['user_id'].astype('int32')"
   ]
  },
  {
   "cell_type": "code",
   "execution_count": 33,
   "id": "ba01db3f",
   "metadata": {},
   "outputs": [],
   "source": [
    "ords_prods_merge['aisle_id']=ords_prods_merge['aisle_id'].astype('int8')"
   ]
  },
  {
   "cell_type": "code",
   "execution_count": 34,
   "id": "26c2818e",
   "metadata": {},
   "outputs": [],
   "source": [
    "ords_prods_merge['department_id']=ords_prods_merge['department_id'].astype('int8')"
   ]
  },
  {
   "cell_type": "code",
   "execution_count": 35,
   "id": "9254303f",
   "metadata": {},
   "outputs": [],
   "source": [
    "ords_prods_merge['prices']=ords_prods_merge['prices'].astype('float16')"
   ]
  },
  {
   "cell_type": "code",
   "execution_count": 36,
   "id": "82a9782c",
   "metadata": {},
   "outputs": [],
   "source": [
    "ords_prods_merge['user_id']=ords_prods_merge['user_id'].astype('int32')"
   ]
  },
  {
   "cell_type": "code",
   "execution_count": 37,
   "id": "61af440c",
   "metadata": {},
   "outputs": [],
   "source": [
    "# change dtypes from df_customers dataframe\n",
    "df_customers['Age']=df_customers['Age'].astype('int8')"
   ]
  },
  {
   "cell_type": "code",
   "execution_count": 38,
   "id": "a2910b47",
   "metadata": {},
   "outputs": [],
   "source": [
    "df_customers['n_dependants']=df_customers['n_dependants'].astype('int8')"
   ]
  },
  {
   "cell_type": "code",
   "execution_count": 39,
   "id": "f57bbc5c",
   "metadata": {},
   "outputs": [],
   "source": [
    "df_customers['income']=df_customers['income'].astype('int8')"
   ]
  },
  {
   "cell_type": "code",
   "execution_count": 44,
   "id": "0fc96175",
   "metadata": {},
   "outputs": [
    {
     "name": "stdout",
     "output_type": "stream",
     "text": [
      "<class 'pandas.core.frame.DataFrame'>\n",
      "Int64Index: 32434212 entries, 0 to 32434211\n",
      "Data columns (total 26 columns):\n",
      " #   Column                 Dtype  \n",
      "---  ------                 -----  \n",
      " 0   order_id               int32  \n",
      " 1   user_id                int32  \n",
      " 2   order_number           int32  \n",
      " 3   order_dow              int32  \n",
      " 4   order_hour_of_day      int32  \n",
      " 5   days_after_last_order  float16\n",
      " 6   product_id             int32  \n",
      " 7   add_to_cart_order      int32  \n",
      " 8   reordered              int8   \n",
      " 9   product_name           object \n",
      " 10  aisle_id               int8   \n",
      " 11  department_id          int8   \n",
      " 12  prices                 float16\n",
      " 13  prices_range_loc       object \n",
      " 14  price_range_loc        object \n",
      " 15  busiest_day            object \n",
      " 16  busiest_days           object \n",
      " 17  busiest_period_of_day  object \n",
      " 18  max_order              int64  \n",
      " 19  loyalty_flag           object \n",
      " 20  avg_price              float64\n",
      " 21  spending_flag          object \n",
      " 22  mean_price             float64\n",
      " 23  median_pur             float64\n",
      " 24  median_days            float64\n",
      " 25  frequency_flag         object \n",
      "dtypes: float16(2), float64(4), int32(7), int64(1), int8(3), object(9)\n",
      "memory usage: 4.7+ GB\n"
     ]
    }
   ],
   "source": [
    "ords_prods_merge.info()"
   ]
  },
  {
   "cell_type": "code",
   "execution_count": 40,
   "id": "a1edf4bd",
   "metadata": {},
   "outputs": [],
   "source": [
    "# Combine the datasets based on user_id column\n",
    "df_combined= pd.merge(df_customers, ords_prods_merge, on= 'user_id')"
   ]
  },
  {
   "cell_type": "code",
   "execution_count": 41,
   "id": "384daa4a",
   "metadata": {},
   "outputs": [
    {
     "data": {
      "text/plain": [
       "(32434212, 35)"
      ]
     },
     "execution_count": 41,
     "metadata": {},
     "output_type": "execute_result"
    }
   ],
   "source": [
    "df_combined.shape"
   ]
  },
  {
   "cell_type": "markdown",
   "id": "eec37d97",
   "metadata": {},
   "source": [
    "### Step 8 Export the dataframe as file\n"
   ]
  },
  {
   "cell_type": "code",
   "execution_count": 42,
   "id": "b6ed7abd",
   "metadata": {},
   "outputs": [],
   "source": [
    "# Export \n",
    "df_combined.to_pickle(os.path.join(path, '02 Data','Prepared Data', 'ords_prods_customer_merged.pkl'))"
   ]
  },
  {
   "cell_type": "code",
   "execution_count": null,
   "id": "9b3af2d5",
   "metadata": {},
   "outputs": [],
   "source": []
  }
 ],
 "metadata": {
  "kernelspec": {
   "display_name": "Python 3 (ipykernel)",
   "language": "python",
   "name": "python3"
  },
  "language_info": {
   "codemirror_mode": {
    "name": "ipython",
    "version": 3
   },
   "file_extension": ".py",
   "mimetype": "text/x-python",
   "name": "python",
   "nbconvert_exporter": "python",
   "pygments_lexer": "ipython3",
   "version": "3.10.9"
  }
 },
 "nbformat": 4,
 "nbformat_minor": 5
}
