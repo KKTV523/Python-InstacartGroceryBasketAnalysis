{
 "cells": [
  {
   "cell_type": "markdown",
   "id": "47152235",
   "metadata": {},
   "source": [
    "# 01.Importing libraries"
   ]
  },
  {
   "cell_type": "code",
   "execution_count": 1,
   "id": "3369b6b2",
   "metadata": {},
   "outputs": [],
   "source": [
    "# Import libraries\n",
    "import pandas as pd\n",
    "import numpy as np\n",
    "import os"
   ]
  },
  {
   "cell_type": "code",
   "execution_count": 3,
   "id": "13cbbe1e",
   "metadata": {},
   "outputs": [],
   "source": [
    "x = 2"
   ]
  },
  {
   "cell_type": "code",
   "execution_count": 4,
   "id": "722c9743",
   "metadata": {},
   "outputs": [
    {
     "data": {
      "text/plain": [
       "2"
      ]
     },
     "execution_count": 4,
     "metadata": {},
     "output_type": "execute_result"
    }
   ],
   "source": [
    "x"
   ]
  },
  {
   "cell_type": "code",
   "execution_count": 5,
   "id": "cf627037",
   "metadata": {},
   "outputs": [
    {
     "name": "stdout",
     "output_type": "stream",
     "text": [
      "2\n"
     ]
    }
   ],
   "source": [
    "print(x)"
   ]
  },
  {
   "cell_type": "code",
   "execution_count": 6,
   "id": "7f4876d2",
   "metadata": {},
   "outputs": [
    {
     "data": {
      "text/plain": [
       "int"
      ]
     },
     "execution_count": 6,
     "metadata": {},
     "output_type": "execute_result"
    }
   ],
   "source": [
    "type(x)"
   ]
  },
  {
   "cell_type": "code",
   "execution_count": 7,
   "id": "422595ae",
   "metadata": {},
   "outputs": [],
   "source": [
    "y = 5.678"
   ]
  },
  {
   "cell_type": "code",
   "execution_count": 8,
   "id": "7ea562b0",
   "metadata": {},
   "outputs": [
    {
     "data": {
      "text/plain": [
       "float"
      ]
     },
     "execution_count": 8,
     "metadata": {},
     "output_type": "execute_result"
    }
   ],
   "source": [
    "type(y)"
   ]
  },
  {
   "cell_type": "code",
   "execution_count": 9,
   "id": "aa9fe1bf",
   "metadata": {},
   "outputs": [
    {
     "ename": "NameError",
     "evalue": "name 'Brazil' is not defined",
     "output_type": "error",
     "traceback": [
      "\u001b[1;31m---------------------------------------------------------------------------\u001b[0m",
      "\u001b[1;31mNameError\u001b[0m                                 Traceback (most recent call last)",
      "Cell \u001b[1;32mIn[9], line 1\u001b[0m\n\u001b[1;32m----> 1\u001b[0m z \u001b[38;5;241m=\u001b[39m \u001b[43mBrazil\u001b[49m\n",
      "\u001b[1;31mNameError\u001b[0m: name 'Brazil' is not defined"
     ]
    }
   ],
   "source": [
    "z = Brazil"
   ]
  },
  {
   "cell_type": "code",
   "execution_count": 10,
   "id": "b5131861",
   "metadata": {},
   "outputs": [],
   "source": [
    "z = 'Brazil'"
   ]
  },
  {
   "cell_type": "code",
   "execution_count": 11,
   "id": "14ce135a",
   "metadata": {},
   "outputs": [
    {
     "data": {
      "text/plain": [
       "str"
      ]
     },
     "execution_count": 11,
     "metadata": {},
     "output_type": "execute_result"
    }
   ],
   "source": [
    "type(z)"
   ]
  },
  {
   "cell_type": "code",
   "execution_count": 12,
   "id": "0c03b84d",
   "metadata": {},
   "outputs": [
    {
     "data": {
      "text/plain": [
       "bool"
      ]
     },
     "execution_count": 12,
     "metadata": {},
     "output_type": "execute_result"
    }
   ],
   "source": [
    "type(True)"
   ]
  },
  {
   "cell_type": "code",
   "execution_count": 13,
   "id": "4689bad8",
   "metadata": {},
   "outputs": [
    {
     "data": {
      "text/plain": [
       "bool"
      ]
     },
     "execution_count": 13,
     "metadata": {},
     "output_type": "execute_result"
    }
   ],
   "source": [
    "type(False)"
   ]
  },
  {
   "cell_type": "code",
   "execution_count": 14,
   "id": "424878ea",
   "metadata": {},
   "outputs": [
    {
     "name": "stdout",
     "output_type": "stream",
     "text": [
      "2\n"
     ]
    }
   ],
   "source": [
    "print(x)"
   ]
  },
  {
   "cell_type": "code",
   "execution_count": 15,
   "id": "ae125f7d",
   "metadata": {},
   "outputs": [
    {
     "data": {
      "text/plain": [
       "6"
      ]
     },
     "execution_count": 15,
     "metadata": {},
     "output_type": "execute_result"
    }
   ],
   "source": [
    "x + 4"
   ]
  },
  {
   "cell_type": "code",
   "execution_count": 16,
   "id": "3f4b59f1",
   "metadata": {},
   "outputs": [
    {
     "name": "stdout",
     "output_type": "stream",
     "text": [
      "2\n"
     ]
    }
   ],
   "source": [
    "print(x)"
   ]
  },
  {
   "cell_type": "code",
   "execution_count": 17,
   "id": "84fbbf61",
   "metadata": {},
   "outputs": [],
   "source": [
    "x=x+4"
   ]
  },
  {
   "cell_type": "code",
   "execution_count": 18,
   "id": "aed0ce4d",
   "metadata": {},
   "outputs": [
    {
     "name": "stdout",
     "output_type": "stream",
     "text": [
      "6\n"
     ]
    }
   ],
   "source": [
    "print(x)"
   ]
  },
  {
   "cell_type": "code",
   "execution_count": 19,
   "id": "e0db881c",
   "metadata": {},
   "outputs": [
    {
     "data": {
      "text/plain": [
       "False"
      ]
     },
     "execution_count": 19,
     "metadata": {},
     "output_type": "execute_result"
    }
   ],
   "source": [
    "x==y"
   ]
  },
  {
   "cell_type": "code",
   "execution_count": 20,
   "id": "cf5f76a6",
   "metadata": {},
   "outputs": [
    {
     "data": {
      "text/plain": [
       "bool"
      ]
     },
     "execution_count": 20,
     "metadata": {},
     "output_type": "execute_result"
    }
   ],
   "source": [
    "type(x==y)"
   ]
  },
  {
   "cell_type": "markdown",
   "id": "c33dfdbf",
   "metadata": {},
   "source": [
    "# Working with Python and data types"
   ]
  },
  {
   "cell_type": "code",
   "execution_count": 21,
   "id": "56661826",
   "metadata": {},
   "outputs": [],
   "source": [
    "r=100"
   ]
  },
  {
   "cell_type": "code",
   "execution_count": 22,
   "id": "1a8d7a53",
   "metadata": {},
   "outputs": [
    {
     "data": {
      "text/plain": [
       "100"
      ]
     },
     "execution_count": 22,
     "metadata": {},
     "output_type": "execute_result"
    }
   ],
   "source": [
    "r"
   ]
  },
  {
   "cell_type": "code",
   "execution_count": 23,
   "id": "becc811b",
   "metadata": {},
   "outputs": [
    {
     "name": "stdout",
     "output_type": "stream",
     "text": [
      "100\n"
     ]
    }
   ],
   "source": [
    "print(r)"
   ]
  },
  {
   "cell_type": "code",
   "execution_count": 24,
   "id": "e8739d45",
   "metadata": {},
   "outputs": [],
   "source": [
    "s=40"
   ]
  },
  {
   "cell_type": "code",
   "execution_count": 25,
   "id": "54d465d1",
   "metadata": {},
   "outputs": [],
   "source": [
    "t=60"
   ]
  },
  {
   "cell_type": "code",
   "execution_count": 26,
   "id": "69fb3fab",
   "metadata": {},
   "outputs": [],
   "source": [
    "q=s+t"
   ]
  },
  {
   "cell_type": "code",
   "execution_count": 27,
   "id": "3cb56689",
   "metadata": {},
   "outputs": [
    {
     "name": "stdout",
     "output_type": "stream",
     "text": [
      "100\n"
     ]
    }
   ],
   "source": [
    "print(q)"
   ]
  },
  {
   "cell_type": "code",
   "execution_count": 28,
   "id": "a1a4934c",
   "metadata": {},
   "outputs": [],
   "source": [
    "w=100-0"
   ]
  },
  {
   "cell_type": "code",
   "execution_count": 29,
   "id": "d8c6cbb7",
   "metadata": {},
   "outputs": [
    {
     "name": "stdout",
     "output_type": "stream",
     "text": [
      "100\n"
     ]
    }
   ],
   "source": [
    "print(w)"
   ]
  },
  {
   "cell_type": "code",
   "execution_count": 30,
   "id": "b768489e",
   "metadata": {},
   "outputs": [],
   "source": [
    "c=6.84"
   ]
  },
  {
   "cell_type": "code",
   "execution_count": 31,
   "id": "a80b15ff",
   "metadata": {},
   "outputs": [],
   "source": [
    "f=2.613"
   ]
  },
  {
   "cell_type": "code",
   "execution_count": 32,
   "id": "9953991d",
   "metadata": {},
   "outputs": [],
   "source": [
    "g=c/f"
   ]
  },
  {
   "cell_type": "code",
   "execution_count": 33,
   "id": "cd933402",
   "metadata": {},
   "outputs": [
    {
     "name": "stdout",
     "output_type": "stream",
     "text": [
      "2.6176808266360503\n"
     ]
    }
   ],
   "source": [
    "print(g)"
   ]
  },
  {
   "cell_type": "code",
   "execution_count": 34,
   "id": "1e2d642a",
   "metadata": {},
   "outputs": [
    {
     "ename": "NameError",
     "evalue": "name 'Data' is not defined",
     "output_type": "error",
     "traceback": [
      "\u001b[1;31m---------------------------------------------------------------------------\u001b[0m",
      "\u001b[1;31mNameError\u001b[0m                                 Traceback (most recent call last)",
      "Cell \u001b[1;32mIn[34], line 1\u001b[0m\n\u001b[1;32m----> 1\u001b[0m d\u001b[38;5;241m=\u001b[39m\u001b[43mData\u001b[49m\n",
      "\u001b[1;31mNameError\u001b[0m: name 'Data' is not defined"
     ]
    }
   ],
   "source": [
    "d=Data"
   ]
  },
  {
   "cell_type": "code",
   "execution_count": 35,
   "id": "da37895d",
   "metadata": {},
   "outputs": [],
   "source": [
    "d='Data'"
   ]
  },
  {
   "cell_type": "code",
   "execution_count": 36,
   "id": "f7c4fbcb",
   "metadata": {},
   "outputs": [],
   "source": [
    "a='Analyst'"
   ]
  },
  {
   "cell_type": "code",
   "execution_count": 39,
   "id": "0975c97e",
   "metadata": {},
   "outputs": [
    {
     "data": {
      "text/plain": [
       "'DataAnalyst'"
      ]
     },
     "execution_count": 39,
     "metadata": {},
     "output_type": "execute_result"
    }
   ],
   "source": [
    "d+a"
   ]
  },
  {
   "cell_type": "code",
   "execution_count": 40,
   "id": "bd26df42",
   "metadata": {},
   "outputs": [],
   "source": [
    "c='Data Analytics Course'"
   ]
  },
  {
   "cell_type": "code",
   "execution_count": 41,
   "id": "27d346f9",
   "metadata": {},
   "outputs": [],
   "source": [
    "f='by Career Foundry'"
   ]
  },
  {
   "cell_type": "code",
   "execution_count": 42,
   "id": "42657bfd",
   "metadata": {},
   "outputs": [
    {
     "data": {
      "text/plain": [
       "'Data Analytics Courseby Career Foundry'"
      ]
     },
     "execution_count": 42,
     "metadata": {},
     "output_type": "execute_result"
    }
   ],
   "source": [
    "c+f"
   ]
  },
  {
   "cell_type": "code",
   "execution_count": 43,
   "id": "727a15cd",
   "metadata": {},
   "outputs": [],
   "source": [
    "j='jupyter fundamentals'"
   ]
  },
  {
   "cell_type": "code",
   "execution_count": 44,
   "id": "452be0c6",
   "metadata": {},
   "outputs": [],
   "source": [
    "p=' and Python data types'"
   ]
  },
  {
   "cell_type": "code",
   "execution_count": 45,
   "id": "75de2b2f",
   "metadata": {},
   "outputs": [
    {
     "name": "stdout",
     "output_type": "stream",
     "text": [
      "jupyter fundamentals and Python data types\n"
     ]
    }
   ],
   "source": [
    "print(j+p)"
   ]
  },
  {
   "cell_type": "code",
   "execution_count": null,
   "id": "714f6db5",
   "metadata": {},
   "outputs": [],
   "source": []
  }
 ],
 "metadata": {
  "kernelspec": {
   "display_name": "Python 3 (ipykernel)",
   "language": "python",
   "name": "python3"
  },
  "language_info": {
   "codemirror_mode": {
    "name": "ipython",
    "version": 3
   },
   "file_extension": ".py",
   "mimetype": "text/x-python",
   "name": "python",
   "nbconvert_exporter": "python",
   "pygments_lexer": "ipython3",
   "version": "3.10.9"
  }
 },
 "nbformat": 4,
 "nbformat_minor": 5
}
